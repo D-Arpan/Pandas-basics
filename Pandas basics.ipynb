{
 "cells": [
  {
   "cell_type": "code",
   "execution_count": 1,
   "metadata": {},
   "outputs": [],
   "source": [
    "# import pandas\n",
    "import pandas as pd"
   ]
  },
  {
   "cell_type": "code",
   "execution_count": 2,
   "metadata": {},
   "outputs": [],
   "source": [
    "#creating dataframe\n",
    "employees = {\n",
    "    \"Name\" : ['Jon Snow', 'Ross Gellar', 'Ragnar Loathbroke', 'Thomas Shelby','Adil Qadri','Chikni Chameli','Genduji Mahaprabhu','Linon Kumar Ghosh'],\n",
    "    \"Age\" : [25,32,55,35,50,18,25,15],\n",
    "    \"City\": ['Westros', 'New York', 'Scandanavia', 'London','Maqsadnagar','Sheelapur','Chakdaha','Shimurali'],\n",
    "    \"Salary\" : [50000,30000,40000,25000,12000,52000,51000,23000],\n",
    "    \"Performance Score\" : [25,30,26,10,30,26,29,26]\n",
    "}\n",
    "\n",
    "df = pd.DataFrame(employees)"
   ]
  },
  {
   "cell_type": "code",
   "execution_count": 3,
   "metadata": {},
   "outputs": [],
   "source": [
    "# saving the data in the form of csv, excel and json files\n",
    "df.to_csv('mydataframe.csv',index=False)\n",
    "df.to_excel('mydataframe.xlsx',index=False)\n",
    "df.to_json('mydataframe.json',index=False)"
   ]
  },
  {
   "cell_type": "code",
   "execution_count": 4,
   "metadata": {},
   "outputs": [
    {
     "name": "stdout",
     "output_type": "stream",
     "text": [
      "NUMBER OF ROWS AND COLUMNS :\n",
      "\n",
      "(8, 5)\n"
     ]
    }
   ],
   "source": [
    "# knowing the shape of the data (number of rows and columns)\n",
    "shape = df.shape\n",
    "print(f\"NUMBER OF ROWS AND COLUMNS :\")\n",
    "print('')\n",
    "print(shape)"
   ]
  },
  {
   "cell_type": "code",
   "execution_count": 5,
   "metadata": {},
   "outputs": [
    {
     "name": "stdout",
     "output_type": "stream",
     "text": [
      "NAME OF THE COLUMNS :\n",
      "\n",
      "Index(['Name', 'Age', 'City', 'Salary', 'Performance Score'], dtype='object')\n"
     ]
    }
   ],
   "source": [
    "# knowing the names of the columns \n",
    "column_names = df.columns\n",
    "print(f\"NAME OF THE COLUMNS :\")\n",
    "print('')\n",
    "print(column_names)"
   ]
  },
  {
   "cell_type": "code",
   "execution_count": 6,
   "metadata": {},
   "outputs": [
    {
     "name": "stdout",
     "output_type": "stream",
     "text": [
      "<class 'pandas.core.frame.DataFrame'>\n",
      "RangeIndex: 8 entries, 0 to 7\n",
      "Data columns (total 5 columns):\n",
      " #   Column             Non-Null Count  Dtype \n",
      "---  ------             --------------  ----- \n",
      " 0   Name               8 non-null      object\n",
      " 1   Age                8 non-null      int64 \n",
      " 2   City               8 non-null      object\n",
      " 3   Salary             8 non-null      int64 \n",
      " 4   Performance Score  8 non-null      int64 \n",
      "dtypes: int64(3), object(2)\n",
      "memory usage: 452.0+ bytes\n",
      "DATA INFORMATION\n",
      "\n",
      "None\n"
     ]
    }
   ],
   "source": [
    "# knowing the data information\n",
    "information = df.info()\n",
    "print('DATA INFORMATION')\n",
    "print('')\n",
    "print(information)"
   ]
  },
  {
   "cell_type": "code",
   "execution_count": 7,
   "metadata": {},
   "outputs": [
    {
     "name": "stdout",
     "output_type": "stream",
     "text": [
      "DESCRIPTIVE STATISTICS\n",
      "\n",
      "             Age        Salary  Performance Score\n",
      "count   8.000000      8.000000           8.000000\n",
      "mean   31.875000  35375.000000          25.250000\n",
      "std    14.367001  15080.143046           6.475228\n",
      "min    15.000000  12000.000000          10.000000\n",
      "25%    23.250000  24500.000000          25.750000\n",
      "50%    28.500000  35000.000000          26.000000\n",
      "75%    38.750000  50250.000000          29.250000\n",
      "max    55.000000  52000.000000          30.000000\n"
     ]
    }
   ],
   "source": [
    "# knowing the descriptive statistics of the data\n",
    "stats = df.describe()\n",
    "print('DESCRIPTIVE STATISTICS')\n",
    "print('')\n",
    "print(stats)"
   ]
  },
  {
   "cell_type": "markdown",
   "metadata": {},
   "source": [
    "#### RETRIEVING \n",
    "1. Select specific columns\n",
    "2. Filter rows\n",
    "3. Combine multiple conditions "
   ]
  },
  {
   "cell_type": "code",
   "execution_count": null,
   "metadata": {},
   "outputs": [],
   "source": []
  },
  {
   "cell_type": "markdown",
   "metadata": {},
   "source": []
  }
 ],
 "metadata": {
  "kernelspec": {
   "display_name": "Python 3",
   "language": "python",
   "name": "python3"
  },
  "language_info": {
   "codemirror_mode": {
    "name": "ipython",
    "version": 3
   },
   "file_extension": ".py",
   "mimetype": "text/x-python",
   "name": "python",
   "nbconvert_exporter": "python",
   "pygments_lexer": "ipython3",
   "version": "3.13.2"
  }
 },
 "nbformat": 4,
 "nbformat_minor": 2
}
