{
 "cells": [
  {
   "cell_type": "code",
   "execution_count": 60,
   "metadata": {},
   "outputs": [],
   "source": [
    "# import pandas\n",
    "import pandas as pd"
   ]
  },
  {
   "cell_type": "code",
   "execution_count": 61,
   "metadata": {},
   "outputs": [],
   "source": [
    "#creating dataframe\n",
    "employees = {\n",
    "    \"Name\" : ['Jon Snow', 'Ross Gellar', 'Ragnar Loathbroke', 'Thomas Shelby','Adil Qadri','Chikni Chameli','Genduji Mahaprabhu','Linon Kumar Ghosh','Panda Biswas','Tarini Charan Barujje'],\n",
    "    \"Age\" : [25,32,55,35,50,18,25,15,69,69],\n",
    "    \"City\": ['Westros', 'New York', 'Scandanavia', 'London','Maqsadnagar','Sheelapur','Chakdaha','Shimurali','Pompom land','Dholakpur'],\n",
    "    \"Salary\" : [50000,30000,40000,25000,12000,52000,51000,23000,69000,70000],\n",
    "    \"Performance Score\" : [99,70,85,42,51,98,95,90,58,77]\n",
    "}\n",
    "\n",
    "df = pd.DataFrame(employees)"
   ]
  },
  {
   "cell_type": "code",
   "execution_count": 62,
   "metadata": {},
   "outputs": [
    {
     "name": "stdout",
     "output_type": "stream",
     "text": [
      "                    Name  Age         City  Salary  Performance Score\n",
      "0               Jon Snow   25      Westros   50000                 99\n",
      "1            Ross Gellar   32     New York   30000                 70\n",
      "2      Ragnar Loathbroke   55  Scandanavia   40000                 85\n",
      "3          Thomas Shelby   35       London   25000                 42\n",
      "4             Adil Qadri   50  Maqsadnagar   12000                 51\n",
      "5         Chikni Chameli   18    Sheelapur   52000                 98\n",
      "6     Genduji Mahaprabhu   25     Chakdaha   51000                 95\n",
      "7      Linon Kumar Ghosh   15    Shimurali   23000                 90\n",
      "8           Panda Biswas   69  Pompom land   69000                 58\n",
      "9  Tarini Charan Barujje   69    Dholakpur   70000                 77\n"
     ]
    }
   ],
   "source": [
    "print(df)"
   ]
  },
  {
   "cell_type": "code",
   "execution_count": 63,
   "metadata": {},
   "outputs": [],
   "source": [
    "# saving the data in the form of csv, excel and json files\n",
    "df.to_csv('mydataframe.csv',index=False)\n",
    "df.to_excel('mydataframe.xlsx',index=False)\n",
    "df.to_json('mydataframe.json',index=False)"
   ]
  },
  {
   "cell_type": "code",
   "execution_count": 64,
   "metadata": {},
   "outputs": [
    {
     "name": "stdout",
     "output_type": "stream",
     "text": [
      "NUMBER OF ROWS AND COLUMNS :\n",
      "\n",
      "(10, 5)\n"
     ]
    }
   ],
   "source": [
    "# knowing the shape of the data (number of rows and columns)\n",
    "shape = df.shape\n",
    "print(f\"NUMBER OF ROWS AND COLUMNS :\")\n",
    "print('')\n",
    "print(shape)"
   ]
  },
  {
   "cell_type": "code",
   "execution_count": 65,
   "metadata": {},
   "outputs": [
    {
     "name": "stdout",
     "output_type": "stream",
     "text": [
      "NAME OF THE COLUMNS :\n",
      "\n",
      "Index(['Name', 'Age', 'City', 'Salary', 'Performance Score'], dtype='object')\n"
     ]
    }
   ],
   "source": [
    "# knowing the names of the columns \n",
    "column_names = df.columns\n",
    "print(f\"NAME OF THE COLUMNS :\")\n",
    "print('')\n",
    "print(column_names)"
   ]
  },
  {
   "cell_type": "code",
   "execution_count": 66,
   "metadata": {},
   "outputs": [
    {
     "name": "stdout",
     "output_type": "stream",
     "text": [
      "DATA INFORMATION\n",
      "\n",
      "<class 'pandas.core.frame.DataFrame'>\n",
      "RangeIndex: 10 entries, 0 to 9\n",
      "Data columns (total 5 columns):\n",
      " #   Column             Non-Null Count  Dtype \n",
      "---  ------             --------------  ----- \n",
      " 0   Name               10 non-null     object\n",
      " 1   Age                10 non-null     int64 \n",
      " 2   City               10 non-null     object\n",
      " 3   Salary             10 non-null     int64 \n",
      " 4   Performance Score  10 non-null     int64 \n",
      "dtypes: int64(3), object(2)\n",
      "memory usage: 532.0+ bytes\n",
      "None\n"
     ]
    }
   ],
   "source": [
    "# knowing the data information\n",
    "print('DATA INFORMATION')\n",
    "print('')\n",
    "print(df.info())"
   ]
  },
  {
   "cell_type": "code",
   "execution_count": 67,
   "metadata": {},
   "outputs": [
    {
     "name": "stdout",
     "output_type": "stream",
     "text": [
      "DESCRIPTIVE STATISTICS\n",
      "\n",
      "             Age        Salary  Performance Score\n",
      "count  10.000000     10.000000          10.000000\n",
      "mean   39.300000  42200.000000          76.500000\n",
      "std    20.138686  19594.783886          20.522346\n",
      "min    15.000000  12000.000000          42.000000\n",
      "25%    25.000000  26250.000000          61.000000\n",
      "50%    33.500000  45000.000000          81.000000\n",
      "75%    53.750000  51750.000000          93.750000\n",
      "max    69.000000  70000.000000          99.000000\n"
     ]
    }
   ],
   "source": [
    "# knowing the descriptive statistics of the data\n",
    "stats = df.describe()\n",
    "print('DESCRIPTIVE STATISTICS')\n",
    "print('')\n",
    "print(stats)"
   ]
  },
  {
   "cell_type": "markdown",
   "metadata": {},
   "source": [
    "### RETRIEVING \n",
    "#### 1. Select specific columns\n",
    "#### 2. Filter rows\n",
    "#### 3. Combine multiple conditions "
   ]
  },
  {
   "cell_type": "markdown",
   "metadata": {},
   "source": [
    "#### SELECTING COLUMNS :\n",
    "- SERIES (SINGLE COLUMN)\n",
    "    - column = df['column name']\n",
    "- DATAFRAME (MULTIPLE COLUMNS)\n",
    "    - multi_column = df[['column1', 'column2', 'column3',......]]"
   ]
  },
  {
   "cell_type": "code",
   "execution_count": 68,
   "metadata": {},
   "outputs": [
    {
     "name": "stdout",
     "output_type": "stream",
     "text": [
      "'NAME' COLUMN :\n",
      "\n",
      "0                 Jon Snow\n",
      "1              Ross Gellar\n",
      "2        Ragnar Loathbroke\n",
      "3            Thomas Shelby\n",
      "4               Adil Qadri\n",
      "5           Chikni Chameli\n",
      "6       Genduji Mahaprabhu\n",
      "7        Linon Kumar Ghosh\n",
      "8             Panda Biswas\n",
      "9    Tarini Charan Barujje\n",
      "Name: Name, dtype: object\n"
     ]
    }
   ],
   "source": [
    "# selecting single column \n",
    "name = df['Name']\n",
    "print(\"'NAME' COLUMN :\")\n",
    "print('')\n",
    "print(name)"
   ]
  },
  {
   "cell_type": "code",
   "execution_count": 69,
   "metadata": {},
   "outputs": [
    {
     "name": "stdout",
     "output_type": "stream",
     "text": [
      "'NAME' AND 'SALARY' COLUMNS :\n",
      "\n",
      "                    Name  Salary\n",
      "0               Jon Snow   50000\n",
      "1            Ross Gellar   30000\n",
      "2      Ragnar Loathbroke   40000\n",
      "3          Thomas Shelby   25000\n",
      "4             Adil Qadri   12000\n",
      "5         Chikni Chameli   52000\n",
      "6     Genduji Mahaprabhu   51000\n",
      "7      Linon Kumar Ghosh   23000\n",
      "8           Panda Biswas   69000\n",
      "9  Tarini Charan Barujje   70000\n"
     ]
    }
   ],
   "source": [
    "# selecting multiple columns\n",
    "name_salary = df[['Name','Salary']]\n",
    "print(\"'NAME' AND 'SALARY' COLUMNS :\")\n",
    "print('')\n",
    "print(name_salary)"
   ]
  },
  {
   "cell_type": "markdown",
   "metadata": {},
   "source": [
    "#### FILTERING ROWS :\n",
    "- BASED ON SINGLE CONDITION\n",
    "    - filtered_rows = df [df[\"Salary\"] > 50000]\n",
    "- BASED ON MULTIPLE CONDITION (AND)\n",
    "    - df [(df [\"salary\"] > 50000) & (df [\"salary\"] > 80000)]\n",
    "- BASED ON MULTIPLE CONDITION (OR)\n",
    "    - df [(df [\"salary\"] > 50000) | (df [\"salary\"] > 80000)]"
   ]
  },
  {
   "cell_type": "code",
   "execution_count": 70,
   "metadata": {},
   "outputs": [
    {
     "name": "stdout",
     "output_type": "stream",
     "text": [
      "EMPLOYEES WITH HIGH SALARY\n",
      "\n",
      "                    Name  Age         City  Salary  Performance Score\n",
      "0               Jon Snow   25      Westros   50000                 99\n",
      "2      Ragnar Loathbroke   55  Scandanavia   40000                 85\n",
      "5         Chikni Chameli   18    Sheelapur   52000                 98\n",
      "6     Genduji Mahaprabhu   25     Chakdaha   51000                 95\n",
      "8           Panda Biswas   69  Pompom land   69000                 58\n",
      "9  Tarini Charan Barujje   69    Dholakpur   70000                 77\n"
     ]
    }
   ],
   "source": [
    "# filtering rows on the basis of single condition \n",
    "high_salary = df[df['Salary'] > 35000]\n",
    "print(\"EMPLOYEES WITH HIGH SALARY\")\n",
    "print('')\n",
    "print(high_salary)"
   ]
  },
  {
   "cell_type": "code",
   "execution_count": 71,
   "metadata": {},
   "outputs": [
    {
     "name": "stdout",
     "output_type": "stream",
     "text": [
      "EMPLOYEES WITH HIGH SALARY AND HIGH PERFORMANCE SCORE\n",
      "\n",
      "                    Name  Age         City  Salary  Performance Score\n",
      "0               Jon Snow   25      Westros   50000                 99\n",
      "2      Ragnar Loathbroke   55  Scandanavia   40000                 85\n",
      "5         Chikni Chameli   18    Sheelapur   52000                 98\n",
      "6     Genduji Mahaprabhu   25     Chakdaha   51000                 95\n",
      "8           Panda Biswas   69  Pompom land   69000                 58\n",
      "9  Tarini Charan Barujje   69    Dholakpur   70000                 77\n"
     ]
    }
   ],
   "source": [
    "#  filtering rows on the basis of multiple conditions (usidng AND)\n",
    "high_salary_and_performance_score = df[(df['Salary'] > 35000) & (df['Performance Score'] > 25)]\n",
    "print(\"EMPLOYEES WITH HIGH SALARY AND HIGH PERFORMANCE SCORE\")\n",
    "print('')\n",
    "print(high_salary_and_performance_score)"
   ]
  },
  {
   "cell_type": "code",
   "execution_count": 72,
   "metadata": {},
   "outputs": [
    {
     "name": "stdout",
     "output_type": "stream",
     "text": [
      "EMPLOYEES WITH HIGH SALARY OR YOUNG AGED\n",
      "\n",
      "                    Name  Age         City  Salary  Performance Score\n",
      "0               Jon Snow   25      Westros   50000                 99\n",
      "5         Chikni Chameli   18    Sheelapur   52000                 98\n",
      "6     Genduji Mahaprabhu   25     Chakdaha   51000                 95\n",
      "7      Linon Kumar Ghosh   15    Shimurali   23000                 90\n",
      "8           Panda Biswas   69  Pompom land   69000                 58\n",
      "9  Tarini Charan Barujje   69    Dholakpur   70000                 77\n"
     ]
    }
   ],
   "source": [
    "# filtering rows on the basis of multiple conditions (using OR)\n",
    "high_salary_or_low_age = df[(df['Salary'] > 50000) | (df['Age'] < 30)]\n",
    "print(\"EMPLOYEES WITH HIGH SALARY OR YOUNG AGED\")\n",
    "print('')\n",
    "print(high_salary_or_low_age)"
   ]
  }
 ],
 "metadata": {
  "kernelspec": {
   "display_name": "Python 3",
   "language": "python",
   "name": "python3"
  },
  "language_info": {
   "codemirror_mode": {
    "name": "ipython",
    "version": 3
   },
   "file_extension": ".py",
   "mimetype": "text/x-python",
   "name": "python",
   "nbconvert_exporter": "python",
   "pygments_lexer": "ipython3",
   "version": "3.13.2"
  }
 },
 "nbformat": 4,
 "nbformat_minor": 2
}
